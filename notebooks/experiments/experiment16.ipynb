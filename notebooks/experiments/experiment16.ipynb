{
 "cells": [
  {
   "cell_type": "code",
   "execution_count": null,
   "id": "cc787521d740d41b",
   "metadata": {
    "collapsed": false,
    "jupyter": {
     "outputs_hidden": false
    }
   },
   "outputs": [],
   "source": [
    "import sys\n",
    "sys.path.insert(0, '../../')\n",
    "\n",
    "import math\n",
    "import numpy as np\n",
    "import matplotlib.pyplot as plt \n",
    "import matplotlib.animation as animation\n",
    "from skimage.filters import threshold_li\n",
    "from gasp import ssfp, phantom, tissue, responses, gasp as GASP"
   ]
  },
  {
   "cell_type": "code",
   "execution_count": null,
   "id": "4c5cd54b7ef7b5",
   "metadata": {
    "collapsed": false,
    "jupyter": {
     "outputs_hidden": false
    }
   },
   "outputs": [],
   "source": [
    "# Experiment parameters\n",
    "T1, T2 = 1.2, .035\n",
    "TR, alpha = 5e-3, np.deg2rad(30)\n",
    "TE = TR / 2.0\n",
    "BetaMax = 2 * np.pi\n",
    "npcs = 16\n",
    "pcs = np.linspace(0, 2*np.pi, npcs, endpoint=False)\n",
    "width = 256\n",
    "height = 256\n",
    "TRs = [5e-3, 10e-3, 15e-3]\n",
    "nTRs = len(TRs)"
   ]
  },
  {
   "cell_type": "code",
   "execution_count": 14,
   "id": "e2101e99-5d0d-47b0-b463-0c03c7852a68",
   "metadata": {
    "tags": []
   },
   "outputs": [],
   "source": [
    "img = phantom.phantom_generator(type='circle')\n",
    "t = tissue.tissue_generator(type='circle')\n",
    "mask = t['mask']\n",
    "size = mask.shape\n",
    "t1 = t['t1']\n",
    "t2 = t['t2']\n",
    "beta = np.linspace(-BetaMax, BetaMax, size[1])\n",
    "f = beta / TR / (2 * np.pi)\n",
    "f = np.tile(f, (size[0], 1))"
   ]
  },
  {
   "cell_type": "code",
   "execution_count": 15,
   "id": "13a2832b-be14-456e-b633-1d2a38c50338",
   "metadata": {
    "tags": []
   },
   "outputs": [
    {
     "data": {
      "text/plain": [
       "(256, 256, 1, 16, 3)"
      ]
     },
     "execution_count": 15,
     "metadata": {},
     "output_type": "execute_result"
    }
   ],
   "source": [
    "width = 256\n",
    "height = 256\n",
    "TRs = [5e-3, 10e-3, 15e-3]\n",
    "nTRs = len(TRs)\n",
    "M = np.empty((height, width, npcs,  nTRs), dtype=np.complex128)\n",
    "\n",
    "for ii, TR in enumerate(TRs):\n",
    "    TE = TR / 2.0\n",
    "    M[..., ii] = ssfp.ssfp(t1, t2, TR, TE, alpha, pcs, field_map=f, M0 = mask)\n",
    "\n",
    "M = np.reshape(M, (height, width, 1, npcs,  nTRs))\n",
    "M.shape"
   ]
  },
  {
   "cell_type": "code",
   "execution_count": 16,
   "id": "9ea4498c-ed03-43ec-bda8-a01a45905648",
   "metadata": {
    "tags": []
   },
   "outputs": [
    {
     "name": "stdout",
     "output_type": "stream",
     "text": [
      "(256, 256)\n",
      "(256, 256, 1, 16, 3)\n"
     ]
    }
   ],
   "source": [
    "# Create mask of phantom\n",
    "_ = np.sqrt(np.sum(np.abs(M)**2, axis=2))\n",
    "_ = np.mean(_, axis=2)\n",
    "_ = np.mean(_, axis=2)\n",
    "_ = abs(_)\n",
    "thresh = threshold_li(_)\n",
    "mask = np.abs(_) > thresh\n",
    "print(mask.shape)\n",
    "\n",
    "# Apply mask to data\n",
    "mask0 = np.tile(\n",
    "    mask, (M.shape[2:] + (1, 1,))).transpose((3, 4, 0, 1, 2))\n",
    "data = M * mask0\n",
    "print(data.shape)"
   ]
  },
  {
   "cell_type": "code",
   "execution_count": 17,
   "id": "567254dc-ef1f-4b93-9a5d-0027db45f654",
   "metadata": {
    "tags": []
   },
   "outputs": [
    {
     "name": "stdout",
     "output_type": "stream",
     "text": [
      "(1, 48, 256, 256)\n"
     ]
    }
   ],
   "source": [
    "data = np.reshape(data, data.shape[:-2] + (-1,))    # [Height, Width, Coil, PCs x TRs]\n",
    "data = np.moveaxis(data, 2, 0)                      # [Coil, Height, Width, PCs x TRs]\n",
    "data = data.transpose((0, 3, 1, 2))                 # [Coil,  PCs x TRs, Width,   Height]\n",
    "print(data.shape)\n",
    "\n",
    "# Get new dimensions\n",
    "ncoils, npcs, height, width = data.shape[:]\n",
    "\n",
    "# Calibration box - (# Number of lines of calibration, Pixels on signal)\n",
    "C_dim = (32, width)"
   ]
  },
  {
   "cell_type": "code",
   "execution_count": 18,
   "id": "44fe1de2-c185-4d08-a056-3a00c619a42a",
   "metadata": {
    "tags": []
   },
   "outputs": [
    {
     "name": "stdout",
     "output_type": "stream",
     "text": [
      "44 83\n"
     ]
    },
    {
     "data": {
      "image/png": "[encoded data removed]",
      "text/plain": [
       "<Figure size 640x480 with 1 Axes>"
      ]
     },
     "metadata": {},
     "output_type": "display_data"
    }
   ],
   "source": [
    "# Create forcing function\n",
    "test = 2\n",
    "if test == 0:\n",
    "    #D = responses.triangle_periodic(width, 120, 110, 38)\n",
    "    #D = responses.triangle_periodic(width, 150, 75, 100)\n",
    "    D = responses.triangle_periodic(width, 120, 50, 38)\n",
    "    D *= mask.T[int(height/2), :]\n",
    "if test == 1:\n",
    "    bw = 0.1\n",
    "    shift = 0.5\n",
    "    x0 = -1/bw * shift\n",
    "    x = np.linspace(-1/bw + x0, 1/bw + x0, width)\n",
    "    D = np.sinc(x)\n",
    "if test == 2:\n",
    "    bw = 0.15\n",
    "    shift = -0.25\n",
    "    bandpass = np.zeros(width)\n",
    "    bw = width * bw\n",
    "    x0 = shift * width\n",
    "    xlo = int(width/2-bw/2+x0)\n",
    "    xhi = int(width/2+bw/2+x0)\n",
    "    bandpass[xlo:xhi] = 1\n",
    "    print(xlo, xhi)\n",
    "    D = bandpass\n",
    "\n",
    "plt.plot(D)\n",
    "plt.plot(mask[:, int(width/2)])\n",
    "plt.show()"
   ]
  },
  {
   "cell_type": "code",
   "execution_count": null,
   "id": "d3da4c7c-74b6-41cd-a5d6-da0054433d84",
   "metadata": {
    "tags": []
   },
   "outputs": [],
   "source": [
    "Ic_linear = np.zeros((ncoils, height, width), dtype='complex')\n",
    "Ic_levmar = np.zeros((ncoils, height, width), dtype='complex')\n",
    "for cc in range(ncoils):\n",
    "    Ic_linear[cc, ...] = GASP.gasp(data[cc, ...], D, C_dim, pc_dim=0, method=\"linear\")\n",
    "    Ic_levmar[cc, ...] = GASP.gasp(data[cc, ...], D, C_dim, pc_dim=0, method=\"lev-mar\")\n",
    "Ic_linear = np.sqrt(np.sum(np.abs(Ic_linear)**2, axis=0))\n",
    "Ic_levmar = np.sqrt(np.sum(np.abs(Ic_levmar)**2, axis=0))"
   ]
  },
  {
   "cell_type": "code",
   "execution_count": null,
   "id": "932ff547-e014-4ad6-ae98-ef1e5bbaabd7",
   "metadata": {
    "tags": []
   },
   "outputs": [],
   "source": [
    "_ = np.sqrt(np.sum(abs(data[:, 0, ...])**2, axis=0))\n",
    "\n",
    "f = plt.figure(figsize=(20,3))\n",
    "ax = f.add_subplot(241)\n",
    "ax2 = f.add_subplot(242)\n",
    "ax3 = f.add_subplot(243)\n",
    "ax4 = f.add_subplot(244)\n",
    "# ax5 = f.add_subplot(245)\n",
    "ax6 = f.add_subplot(246)\n",
    "ax7 = f.add_subplot(247)\n",
    "ax8 = f.add_subplot(248)\n",
    "\n",
    "ax.imshow(_, cmap='gray')\n",
    "ax2.plot(_[int(width/2), :])\n",
    "ax3.imshow(Ic_linear, cmap='gray')\n",
    "ax4.plot(np.abs(Ic_linear[int(height/2), :]), label='Linear Simulated Profile')\n",
    "ax4.plot(D, '--', label='Desired Profile')\n",
    "ax4.legend()\n",
    "\n",
    "ax6.plot(np.abs(Ic_linear[int(height/2), :] - Ic_levmar[int(height/2), :]), label=\"Linear/Lev-Mar Solution Difference\")\n",
    "ax6.legend()\n",
    "\n",
    "ax7.imshow(Ic_levmar, cmap='gray')\n",
    "ax8.plot(np.abs(Ic_levmar[int(height/2), :]), label='Lev-Mar Simulated Profile')\n",
    "ax8.plot(D, '--', label='Desired Profile')\n",
    "ax8.legend()\n",
    "\n",
    "plt.show()"
   ]
  },
  {
   "cell_type": "code",
   "execution_count": null,
   "id": "8a5b8df9-be82-41c0-8f75-cea9b2a69bcd",
   "metadata": {},
   "outputs": [],
   "source": []
  }
 ],
 "metadata": {
  "kernelspec": {
   "display_name": "Python 3 (ipykernel)",
   "language": "python",
   "name": "python3"
  },
  "language_info": {
   "codemirror_mode": {
    "name": "ipython",
    "version": 3
   },
   "file_extension": ".py",
   "mimetype": "text/x-python",
   "name": "python",
   "nbconvert_exporter": "python",
   "pygments_lexer": "ipython3",
   "version": "3.11.5"
  },
  "toc-showcode": false,
  "toc-showmarkdowntxt": false
 },
 "nbformat": 4,
 "nbformat_minor": 5
}
