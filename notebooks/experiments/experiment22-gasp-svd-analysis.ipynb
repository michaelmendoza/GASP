{
 "cells": [
  {
   "cell_type": "markdown",
   "metadata": {},
   "source": [
    "Experiment 22 - SVD Analysis "
   ]
  },
  {
   "cell_type": "code",
   "execution_count": 17,
   "metadata": {},
   "outputs": [],
   "source": [
    "import sys\n",
    "sys.path.insert(0, '../../')\n",
    "import numpy as np\n",
    "from gasp import ssfp, responses, simulation, dataset, get_project_path, gasp as GASP\n",
    "import matplotlib.pyplot as plt"
   ]
  },
  {
   "cell_type": "code",
   "execution_count": 18,
   "metadata": {},
   "outputs": [],
   "source": [
    "def train(alpha, bw, shift, method=\"linear\"):\n",
    "    width = 256\n",
    "    height = 1\n",
    "    npcs = 16\n",
    "    TRs = [5e-3, 10e-3, 20e-3]\n",
    "    alpha = np.deg2rad(alpha)\n",
    "    gradient = 2 * np.pi\n",
    "    phantom_type = 'line'\n",
    "    phantom_padding = 32\n",
    "\n",
    "    D = responses.gaussian(width, bw=bw, shift=shift)\n",
    "    M = simulation.simulate_ssfp(width=width, height=height, npcs=npcs, TRs=TRs, alpha=alpha, gradient=gradient, phantom_type=phantom_type, phantom_padding=phantom_padding)\n",
    "    Ic, An = simulation.train_gasp(M, D, clines=2, method=method)\n",
    "    An = np.array(An)[0]\n",
    "    return Ic, An, M"
   ]
  },
  {
   "cell_type": "code",
   "execution_count": 33,
   "metadata": {},
   "outputs": [],
   "source": [
    "def train_and_plot(alpha = 20, bw = 0.2, shift = 0, method='linear'):\n",
    "    Ic, An, Mtrain = train(alpha=alpha, bw=bw, shift=shift, method=method)\n",
    "    fig, (ax1, ax2) = plt.subplots(1, 2, figsize=(10,2))\n",
    "\n",
    "    _ = np.sqrt(np.sum(np.abs(Mtrain)**2, axis=2))\n",
    "    _ = abs(_[:,:,0,0])\n",
    "    print(_.shape)\n",
    "    ax1.plot(_.T)\n",
    "\n",
    "    _ = np.abs(Ic)\n",
    "    print(_.shape)\n",
    "    ax2.plot(_.T)\n",
    "\n",
    "    return An"
   ]
  },
  {
   "cell_type": "code",
   "execution_count": 41,
   "metadata": {},
   "outputs": [],
   "source": [
    "def create_gasp_data(alpha = 20):\n",
    "        width = 256\n",
    "        height = 1\n",
    "        npcs = 16\n",
    "        TRs = [5e-3, 10e-3, 20e-3]\n",
    "        alpha = np.deg2rad(alpha)\n",
    "        gradient = 2 * np.pi\n",
    "        phantom_type = 'line'\n",
    "        phantom_padding = 32\n",
    "        \n",
    "        M = simulation.simulate_ssfp(width=width, height=height, npcs=npcs, TRs=TRs, alpha=alpha, gradient=gradient, phantom_type=phantom_type, phantom_padding=phantom_padding)\n",
    "        return M\n",
    "        \n",
    "def run_gasp(Mdata, An, method=\"linear\"):\n",
    "    Ic = []\n",
    "    for cc in range(Mdata.shape[2]):\n",
    "        Mc = Mdata[:,:,cc,:,:]\n",
    "        Mc = np.reshape(Mc,(Mc.shape[0], Mc.shape[1], -1))\n",
    "        _ = GASP.apply_gasp(Mc, An, method=method)\n",
    "        Ic.append(_)\n",
    "    Ic = np.array(Ic)\n",
    "    Ic = np.sqrt(np.sum(np.abs(Ic)**2, axis=0))\n",
    "    return Ic\n",
    "\n",
    "def plot_gasp(Ic):\n",
    "    pass"
   ]
  },
  {
   "cell_type": "code",
   "execution_count": 42,
   "metadata": {},
   "outputs": [
    {
     "name": "stdout",
     "output_type": "stream",
     "text": [
      "(1, 256)\n",
      "(1, 256)\n",
      "(1, 256, 16, 3)\n",
      "(1, 256, 48)\n"
     ]
    },
    {
     "data": {
      "text/plain": [
       "array([[0.00000000e+00, 0.00000000e+00, 0.00000000e+00, 0.00000000e+00,\n",
       "        0.00000000e+00, 0.00000000e+00, 0.00000000e+00, 0.00000000e+00,\n",
       "        0.00000000e+00, 0.00000000e+00, 0.00000000e+00, 0.00000000e+00,\n",
       "        0.00000000e+00, 0.00000000e+00, 0.00000000e+00, 0.00000000e+00,\n",
       "        0.00000000e+00, 0.00000000e+00, 0.00000000e+00, 0.00000000e+00,\n",
       "        0.00000000e+00, 0.00000000e+00, 0.00000000e+00, 0.00000000e+00,\n",
       "        0.00000000e+00, 0.00000000e+00, 0.00000000e+00, 0.00000000e+00,\n",
       "        0.00000000e+00, 0.00000000e+00, 0.00000000e+00, 0.00000000e+00,\n",
       "        3.01614654e-04, 2.75505915e-05, 2.21093174e-04, 2.89352353e-04,\n",
       "        2.15130304e-04, 4.85744886e-05, 9.42570489e-05, 1.58607680e-04,\n",
       "        2.30209434e-04, 2.06274826e-04, 1.45035640e-04, 8.24396005e-05,\n",
       "        8.05380820e-05, 3.35570784e-05, 2.41485934e-04, 2.22742815e-05,\n",
       "        2.91681322e-04, 6.11911268e-04, 4.02337629e-04, 5.41737272e-05,\n",
       "        4.12455354e-04, 5.22549174e-04, 4.08944574e-04, 2.04275153e-04,\n",
       "        9.54704219e-05, 3.28015953e-04, 4.34332973e-04, 2.97505033e-04,\n",
       "        7.47538982e-05, 1.73158331e-04, 2.79836881e-04, 2.20176926e-04,\n",
       "        9.75820674e-05, 2.21401507e-05, 6.65183447e-05, 1.06359129e-04,\n",
       "        7.51345963e-05, 6.90202719e-05, 7.71876372e-05, 1.00836355e-04,\n",
       "        1.66992566e-04, 1.60875726e-04, 1.22094762e-04, 7.28984098e-05,\n",
       "        1.17732367e-05, 2.11896859e-04, 7.91250604e-04, 9.25280391e-04,\n",
       "        1.22269189e-03, 1.32701997e-03, 1.86830664e-03, 2.36113026e-03,\n",
       "        2.85408241e-03, 3.42481088e-03, 4.49325680e-03, 6.19791018e-03,\n",
       "        8.41762339e-03, 1.09859479e-02, 1.38054168e-02, 1.70548484e-02,\n",
       "        2.08489719e-02, 2.55121390e-02, 3.12557798e-02, 3.83715347e-02,\n",
       "        4.69872250e-02, 5.70941398e-02, 6.88425510e-02, 8.24490080e-02,\n",
       "        9.81559581e-02, 1.15859435e-01, 1.35735624e-01, 1.58074611e-01,\n",
       "        1.83061593e-01, 2.10715589e-01, 2.40947221e-01, 2.74072496e-01,\n",
       "        3.10144915e-01, 3.49423856e-01, 3.90858778e-01, 4.34087621e-01,\n",
       "        4.78178968e-01, 5.24175472e-01, 5.71287162e-01, 6.19043399e-01,\n",
       "        6.66210572e-01, 7.12544509e-01, 7.57582741e-01, 8.00904622e-01,\n",
       "        8.41695961e-01, 8.79094508e-01, 9.12380449e-01, 9.40944210e-01,\n",
       "        9.64306365e-01, 9.81864663e-01, 9.93488646e-01, 9.99224717e-01,\n",
       "        9.99224717e-01, 9.93488646e-01, 9.81864663e-01, 9.64306365e-01,\n",
       "        9.40944210e-01, 9.12380449e-01, 8.79094508e-01, 8.41695961e-01,\n",
       "        8.00904622e-01, 7.57582741e-01, 7.12544509e-01, 6.66210572e-01,\n",
       "        6.19043399e-01, 5.71287162e-01, 5.24175472e-01, 4.78178968e-01,\n",
       "        4.34087621e-01, 3.90858778e-01, 3.49423856e-01, 3.10144915e-01,\n",
       "        2.74072496e-01, 2.40947221e-01, 2.10715589e-01, 1.83061593e-01,\n",
       "        1.58074611e-01, 1.35735624e-01, 1.15859435e-01, 9.81559581e-02,\n",
       "        8.24490080e-02, 6.88425510e-02, 5.70941398e-02, 4.69872250e-02,\n",
       "        3.83715347e-02, 3.12557798e-02, 2.55121390e-02, 2.08489719e-02,\n",
       "        1.70548484e-02, 1.38054168e-02, 1.09859479e-02, 8.41762339e-03,\n",
       "        6.19791018e-03, 4.49325680e-03, 3.42481088e-03, 2.85408241e-03,\n",
       "        2.36113026e-03, 1.86830664e-03, 1.32701997e-03, 1.22269189e-03,\n",
       "        9.25280391e-04, 7.91250604e-04, 2.11896859e-04, 1.17732367e-05,\n",
       "        7.28984098e-05, 1.22094762e-04, 1.60875726e-04, 1.66992566e-04,\n",
       "        1.00836355e-04, 7.71876372e-05, 6.90202719e-05, 7.51345963e-05,\n",
       "        1.06359129e-04, 6.65183447e-05, 2.21401507e-05, 9.75820674e-05,\n",
       "        2.20176926e-04, 2.79836881e-04, 1.73158331e-04, 7.47538982e-05,\n",
       "        2.97505033e-04, 4.34332973e-04, 3.28015953e-04, 9.54704219e-05,\n",
       "        2.04275153e-04, 4.08944574e-04, 5.22549174e-04, 4.12455354e-04,\n",
       "        5.41737272e-05, 4.02337629e-04, 6.11911268e-04, 2.91681322e-04,\n",
       "        2.22742815e-05, 2.41485934e-04, 3.35570784e-05, 8.05380820e-05,\n",
       "        8.24396005e-05, 1.45035640e-04, 2.06274826e-04, 2.30209434e-04,\n",
       "        1.58607680e-04, 9.42570489e-05, 4.85744886e-05, 2.15130304e-04,\n",
       "        2.89352353e-04, 2.21093174e-04, 2.75505915e-05, 3.01614654e-04,\n",
       "        0.00000000e+00, 0.00000000e+00, 0.00000000e+00, 0.00000000e+00,\n",
       "        0.00000000e+00, 0.00000000e+00, 0.00000000e+00, 0.00000000e+00,\n",
       "        0.00000000e+00, 0.00000000e+00, 0.00000000e+00, 0.00000000e+00,\n",
       "        0.00000000e+00, 0.00000000e+00, 0.00000000e+00, 0.00000000e+00,\n",
       "        0.00000000e+00, 0.00000000e+00, 0.00000000e+00, 0.00000000e+00,\n",
       "        0.00000000e+00, 0.00000000e+00, 0.00000000e+00, 0.00000000e+00,\n",
       "        0.00000000e+00, 0.00000000e+00, 0.00000000e+00, 0.00000000e+00,\n",
       "        0.00000000e+00, 0.00000000e+00, 0.00000000e+00, 0.00000000e+00]])"
      ]
     },
     "execution_count": 42,
     "metadata": {},
     "output_type": "execute_result"
    },
    {
     "data": {
      "image/png": "[encoded data removed]",
      "text/plain": [
       "<Figure size 1000x200 with 2 Axes>"
      ]
     },
     "metadata": {},
     "output_type": "display_data"
    }
   ],
   "source": [
    "An = train_and_plot()\n",
    "M = create_gasp_data()\n",
    "Ic = run_gasp(M, An, 'linear')\n"
   ]
  },
  {
   "cell_type": "code",
   "execution_count": null,
   "metadata": {},
   "outputs": [],
   "source": []
  },
  {
   "cell_type": "markdown",
   "metadata": {},
   "source": []
  }
 ],
 "metadata": {
  "kernelspec": {
   "display_name": "mri",
   "language": "python",
   "name": "python3"
  },
  "language_info": {
   "codemirror_mode": {
    "name": "ipython",
    "version": 3
   },
   "file_extension": ".py",
   "mimetype": "text/x-python",
   "name": "python",
   "nbconvert_exporter": "python",
   "pygments_lexer": "ipython3",
   "version": "3.8.8"
  }
 },
 "nbformat": 4,
 "nbformat_minor": 2
}
