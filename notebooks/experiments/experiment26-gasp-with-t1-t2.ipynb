{
 "cells": [
  {
   "cell_type": "code",
   "execution_count": null,
   "metadata": {},
   "outputs": [],
   "source": [
    "import sys\n",
    "sys.path.insert(0, '../../')\n",
    "\n",
    "import math\n",
    "import numpy as np\n",
    "import matplotlib.pyplot as plt \n",
    "import matplotlib.animation as animation\n",
    "from gasp import ssfp, phantom, tissue"
   ]
  },
  {
   "cell_type": "code",
   "execution_count": null,
   "metadata": {},
   "outputs": [],
   "source": [
    "img = phantom.phantom_generator(type='blocks')\n",
    "t = tissue.tissue_generator(type='blocks')\n",
    "mask = t['mask']\n",
    "t1 = t['t1']\n",
    "t2 = t['t2']\n",
    "BetaMax = 16 * np.pi\n",
    "beta = np.linspace(-BetaMax, BetaMax, size[1])\n",
    "f = beta / TR / (2 * np.pi)\n",
    "f = np.tile(f, (size[0], 1))\n",
    "M = ssfp.ssfp(t1, t2, TR, TE, alpha, field_map=f, M0 = mask)"
   ]
  }
 ],
 "metadata": {
  "language_info": {
   "name": "python"
  }
 },
 "nbformat": 4,
 "nbformat_minor": 2
}
