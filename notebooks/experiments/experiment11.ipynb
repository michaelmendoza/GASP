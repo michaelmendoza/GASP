{
 "cells": [
  {
   "cell_type": "code",
   "execution_count": 3,
   "id": "8191fad8-828f-4612-aac8-b92b68ed87e5",
   "metadata": {},
   "outputs": [
    {
     "data": {
      "text/plain": [
       "'/Users/michael/projects/imperial/GASP/notebooks/experiments'"
      ]
     },
     "execution_count": 3,
     "metadata": {},
     "output_type": "execute_result"
    }
   ],
   "source": [
    "import sys\n",
    "sys.path.insert(0, '../../')\n",
    "import math\n",
    "import numpy as np\n",
    "import matplotlib.pyplot as plt\n",
    "from gasp import ssfp, responses, simulation, dataset, get_project_path"
   ]
  },
  {
   "cell_type": "code",
   "execution_count": null,
   "id": "3bd21309",
   "metadata": {},
   "outputs": [],
   "source": [
    "path = get_project_path()\n",
    "M = dataset.load_dataset7a(path)"
   ]
  },
  {
   "cell_type": "code",
   "execution_count": null,
   "id": "ed7a2b64",
   "metadata": {},
   "outputs": [],
   "source": [
    "M = M[64:192, 64:192, : ,: ,:]\n",
    "M.shape "
   ]
  },
  {
   "cell_type": "code",
   "execution_count": null,
   "id": "403f91d2",
   "metadata": {},
   "outputs": [],
   "source": [
    "simulation.view_gasp_input(M, [10,0])"
   ]
  },
  {
   "cell_type": "code",
   "execution_count": null,
   "id": "1b9b269b",
   "metadata": {},
   "outputs": [],
   "source": [
    "width = M.shape[1]\n",
    "\n",
    "D = []\n",
    "D.append(responses.gaussian(width, bw=0.2, shift=0))\n",
    "D.append(responses.gaussian(width, bw=0.2, shift=-0.25))\n",
    "D.append(responses.gaussian(width, bw=0.2, shift=0.25))\n",
    "D.append(responses.notch(width, bw=0.2, shift=0))\n",
    "D.append(responses.notch(width, bw=0.2, shift=0.25))\n",
    "D.append(responses.gaussian(width, bw=0.5, shift=0))\n",
    "D.append(responses.square(width, bw=0.3, shift=0))\n",
    "D.append(responses.square(width, bw=0.3, shift=0.4))\n",
    "\n",
    "G = []\n",
    "A = []\n",
    "for d in D:\n",
    "    Ic, An = simulation.train_gasp(M, d, clines=16)    \n",
    "    G.append(Ic)\n",
    "    A.append(An)\n",
    "\n",
    "for i in range(len(D)):\n",
    "    D[i] = D[i] * math.sqrt(8)\n",
    "\n",
    "simulation.view_gasp_comparison(G, D)"
   ]
  },
  {
   "cell_type": "code",
   "execution_count": null,
   "id": "0cf5eb0f",
   "metadata": {},
   "outputs": [],
   "source": [
    "M = dataset.load_dataset7b()"
   ]
  },
  {
   "cell_type": "code",
   "execution_count": null,
   "id": "0478908c",
   "metadata": {},
   "outputs": [],
   "source": [
    "M = M[64:192, 64:192, : ,: ,:]\n",
    "M.shape "
   ]
  },
  {
   "cell_type": "code",
   "execution_count": null,
   "id": "d95e83a6",
   "metadata": {},
   "outputs": [],
   "source": [
    "simulation.view_gasp_input(M, [10,0])"
   ]
  },
  {
   "cell_type": "code",
   "execution_count": null,
   "id": "9405cd5f",
   "metadata": {},
   "outputs": [],
   "source": [
    "width = M.shape[1]\n",
    "\n",
    "D = []\n",
    "D.append(responses.gaussian(width, bw=0.2, shift=0))\n",
    "D.append(responses.gaussian(width, bw=0.2, shift=-0.25))\n",
    "D.append(responses.gaussian(width, bw=0.2, shift=0.25))\n",
    "D.append(responses.notch(width, bw=0.2, shift=0))\n",
    "D.append(responses.notch(width, bw=0.2, shift=0.25))\n",
    "D.append(responses.gaussian(width, bw=0.5, shift=0))\n",
    "D.append(responses.square(width, bw=0.3, shift=0))\n",
    "D.append(responses.square(width, bw=0.3, shift=0.4))\n",
    "\n",
    "G = []\n",
    "A = []\n",
    "for d in D:\n",
    "    Ic, An = simulation.train_gasp(M, d, clines=16)    \n",
    "    G.append(Ic)\n",
    "    A.append(An)\n",
    "\n",
    "for i in range(len(D)):\n",
    "    D[i] = D[i] * math.sqrt(8)\n",
    "\n",
    "simulation.view_gasp_comparison(G, D)"
   ]
  }
 ],
 "metadata": {
  "kernelspec": {
   "display_name": "Python 3 (ipykernel)",
   "language": "python",
   "name": "python3"
  },
  "language_info": {
   "codemirror_mode": {
    "name": "ipython",
    "version": 3
   },
   "file_extension": ".py",
   "mimetype": "text/x-python",
   "name": "python",
   "nbconvert_exporter": "python",
   "pygments_lexer": "ipython3",
   "version": "3.11.5"
  }
 },
 "nbformat": 4,
 "nbformat_minor": 5
}
