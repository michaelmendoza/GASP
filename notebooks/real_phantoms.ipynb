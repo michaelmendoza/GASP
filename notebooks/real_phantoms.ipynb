{
 "cells": [
  {
   "cell_type": "code",
   "execution_count": null,
   "id": "7a82043c-fd24-4eff-99a7-7f8789ad3083",
   "metadata": {},
   "outputs": [],
   "source": [
    "import sys\n",
    "sys.path.insert(0, '../')\n",
    "from pathlib import Path\n",
    "import os\n",
    "from IPython.display import Image\n",
    "\n",
    "from gasp import dataloader, view"
   ]
  },
  {
   "cell_type": "code",
   "execution_count": null,
   "id": "70f8e033-e4dd-4176-94e4-941a0b874c7b",
   "metadata": {},
   "outputs": [],
   "source": [
    "valid_filetypes=['.dat']"
   ]
  },
  {
   "cell_type": "code",
   "execution_count": null,
   "id": "97ec00a7-14bd-45e4-8597-40d8f6ae69c8",
   "metadata": {},
   "outputs": [],
   "source": [
    "path = Path('/Users/michael/projects/MRI/data/2019_GASP/')\n",
    "path"
   ]
  },
  {
   "cell_type": "code",
   "execution_count": null,
   "id": "9ce07092-d833-40e8-a250-304e7bd4602d",
   "metadata": {},
   "outputs": [],
   "source": [
    "folders = []\n",
    "files = []\n",
    "for item in path.iterdir():\n",
    "    if os.path.isdir(item):\n",
    "        folders.append(item.name)\n",
    "    if os.path.isfile(item) and item.suffix in valid_filetypes:\n",
    "        files.append(item)"
   ]
  },
  {
   "cell_type": "code",
   "execution_count": null,
   "id": "edfac270-3724-4a43-990d-7eb2b980d374",
   "metadata": {},
   "outputs": [],
   "source": [
    "folders"
   ]
  },
  {
   "cell_type": "code",
   "execution_count": null,
   "id": "acf00d55-3655-4df8-80ae-8b9927e03f64",
   "metadata": {},
   "outputs": [],
   "source": [
    "for folder in folders:\n",
    "    _path = Path(os.path.join(path, folder))\n",
    "    \n",
    "    for item in _path.iterdir():\n",
    "        if os.path.isfile(item) and item.suffix in valid_filetypes:\n",
    "            files.append(item)"
   ]
  },
  {
   "cell_type": "code",
   "execution_count": null,
   "id": "dc3f5468-1052-4fb2-9d5c-9682f41d5ad1",
   "metadata": {},
   "outputs": [],
   "source": [
    "%%capture\n",
    "count = 0\n",
    "data = dataloader.read_rawdata(files[count]);\n",
    "M = data['data']\n",
    "filename = f'bssfp_data_{count}.gif'\n",
    "view.view3D(filename, M);"
   ]
  },
  {
   "cell_type": "code",
   "execution_count": null,
   "id": "5e5920b5-09fa-4c0a-8b59-f849bca7c6b3",
   "metadata": {},
   "outputs": [],
   "source": [
    "print(filename, files[count])\n",
    "Image(open('./images/' + filename,'rb').read())"
   ]
  },
  {
   "cell_type": "code",
   "execution_count": null,
   "id": "b2689fce-a9de-40bb-82cd-b7887fae261d",
   "metadata": {},
   "outputs": [],
   "source": [
    "count = 0\n",
    "for file in files:\n",
    "    data = dataloader.read_rawdata(files[count]);\n",
    "    M = data['data']\n",
    "    filename = f'bssfp_data_{count}.gif'\n",
    "    view.view3D(filename, M);\n",
    "    count = count + 1\n",
    "    print(count)"
   ]
  },
  {
   "cell_type": "code",
   "execution_count": null,
   "id": "4b0f091c-e47d-48ca-bc51-6038365e588e",
   "metadata": {},
   "outputs": [],
   "source": [
    "count = 0\n",
    "for file in files:\n",
    "    #print(filename, files[count])\n",
    "    Image(open('./images/' + filename,'rb').read())\n",
    "    count = count + 1"
   ]
  },
  {
   "cell_type": "code",
   "execution_count": null,
   "id": "e6f863e7-4cdd-4873-b017-2b91b6f633c0",
   "metadata": {},
   "outputs": [],
   "source": []
  }
 ],
 "metadata": {
  "kernelspec": {
   "display_name": "Python 3 (ipykernel)",
   "language": "python",
   "name": "python3"
  },
  "language_info": {
   "codemirror_mode": {
    "name": "ipython",
    "version": 3
   },
   "file_extension": ".py",
   "mimetype": "text/x-python",
   "name": "python",
   "nbconvert_exporter": "python",
   "pygments_lexer": "ipython3",
   "version": "3.8.5"
  }
 },
 "nbformat": 4,
 "nbformat_minor": 5
}
