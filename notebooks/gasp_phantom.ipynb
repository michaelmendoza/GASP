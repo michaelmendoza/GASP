{
 "cells": [
  {
   "cell_type": "code",
   "execution_count": 26,
   "id": "eca8af3a-e1b1-4a1a-8376-7fb15b2b4c29",
   "metadata": {},
   "outputs": [],
   "source": [
    "''' Adapted from phantom.py'''\n",
    "import sys\n",
    "sys.path.insert(0, '../')\n",
    "\n",
    "import numpy as np\n",
    "import matplotlib.pyplot as plt \n",
    "from gasp import dataloader, view"
   ]
  },
  {
   "cell_type": "code",
   "execution_count": 2,
   "id": "2af1231e-5f62-4b76-a697-1bf667ffe5ea",
   "metadata": {},
   "outputs": [],
   "source": [
    "filepath = '../../data/2019_GASP/20190507_GASP_LONG_TR_WATER/'\n",
    "files = ['meas_MID12_TRUFI_TE12_FID42712.dat',\n",
    "         'meas_MID13_TRUFI_TE24_FID42713.dat',\n",
    "         'meas_MID14_TRUFI_TE48_FID42714.dat']"
   ]
  },
  {
   "cell_type": "code",
   "execution_count": 51,
   "id": "4d22eccf-f898-41e3-8fd9-f3a9deef6819",
   "metadata": {},
   "outputs": [
    {
     "name": "stdout",
     "output_type": "stream",
     "text": [
      "pymapVBVD version 0.4.8\n",
      "Software version: VB\n"
     ]
    },
    {
     "data": {
      "application/vnd.jupyter.widget-view+json": {
       "model_id": "f3600c8a355f426aa58ed8e563ab2693",
       "version_major": 2,
       "version_minor": 0
      },
      "text/plain": [
       "Scan 1/1, read all mdhs:   0%|          | 0.00/528M [00:00<?, ?B/s]"
      ]
     },
     "metadata": {},
     "output_type": "display_data"
    },
    {
     "data": {
      "application/vnd.jupyter.widget-view+json": {
       "model_id": "",
       "version_major": 2,
       "version_minor": 0
      },
      "text/plain": [
       "read data:   0%|          | 0/32767 [00:00<?, ?it/s]"
      ]
     },
     "metadata": {},
     "output_type": "display_data"
    },
    {
     "name": "stdout",
     "output_type": "stream",
     "text": [
      "pymapVBVD version 0.4.8\n",
      "Software version: VB\n"
     ]
    },
    {
     "data": {
      "application/vnd.jupyter.widget-view+json": {
       "model_id": "81865618a67d4e42b69f78b1aa665def",
       "version_major": 2,
       "version_minor": 0
      },
      "text/plain": [
       "Scan 1/1, read all mdhs:   0%|          | 0.00/528M [00:00<?, ?B/s]"
      ]
     },
     "metadata": {},
     "output_type": "display_data"
    },
    {
     "data": {
      "application/vnd.jupyter.widget-view+json": {
       "model_id": "",
       "version_major": 2,
       "version_minor": 0
      },
      "text/plain": [
       "read data:   0%|          | 0/32767 [00:00<?, ?it/s]"
      ]
     },
     "metadata": {},
     "output_type": "display_data"
    },
    {
     "name": "stdout",
     "output_type": "stream",
     "text": [
      "pymapVBVD version 0.4.8\n",
      "Software version: VB\n"
     ]
    },
    {
     "data": {
      "application/vnd.jupyter.widget-view+json": {
       "model_id": "9cdc4433e8fe49de9c7914525aa84744",
       "version_major": 2,
       "version_minor": 0
      },
      "text/plain": [
       "Scan 1/1, read all mdhs:   0%|          | 0.00/528M [00:00<?, ?B/s]"
      ]
     },
     "metadata": {},
     "output_type": "display_data"
    },
    {
     "data": {
      "application/vnd.jupyter.widget-view+json": {
       "model_id": "",
       "version_major": 2,
       "version_minor": 0
      },
      "text/plain": [
       "read data:   0%|          | 0/32767 [00:00<?, ?it/s]"
      ]
     },
     "metadata": {},
     "output_type": "display_data"
    }
   ],
   "source": [
    "M0 = dataloader.read_rawdata(filepath + files[0], doChaAverage=False, doChaSOSAverage=False)['data']\n",
    "M1 = dataloader.read_rawdata(filepath + files[1], doChaAverage=False, doChaSOSAverage=False)['data']\n",
    "M2 = dataloader.read_rawdata(filepath + files[2], doChaAverage=False, doChaSOSAverage=False)['data']"
   ]
  },
  {
   "cell_type": "code",
   "execution_count": 52,
   "id": "27aa4b2f-6de9-43d4-956c-9af541296086",
   "metadata": {},
   "outputs": [
    {
     "data": {
      "text/plain": [
       "(1, 256, 256, 4, 16)"
      ]
     },
     "execution_count": 52,
     "metadata": {},
     "output_type": "execute_result"
    }
   ],
   "source": [
    "M0.shape # [Height, Width, Coil, PCs]"
   ]
  },
  {
   "cell_type": "code",
   "execution_count": 53,
   "id": "730ee493-2bb1-47b8-a841-481bbafe5345",
   "metadata": {},
   "outputs": [
    {
     "data": {
      "text/plain": [
       "(1, 256, 256, 4, 16, 3)"
      ]
     },
     "execution_count": 53,
     "metadata": {},
     "output_type": "execute_result"
    }
   ],
   "source": [
    "M = np.stack([M0,M1,M2], axis=-1)\n",
    "M.shape # [Height, Width, Coil, PCs, TRs]"
   ]
  },
  {
   "cell_type": "code",
   "execution_count": 54,
   "id": "851d2ab7-6eb6-4298-8842-1c928ce7eb63",
   "metadata": {},
   "outputs": [],
   "source": [
    "M = np.sqrt(np.sum(np.abs(M)**2, axis=(3)))"
   ]
  },
  {
   "cell_type": "code",
   "execution_count": 55,
   "id": "8939dbab-b38b-4c29-92db-d44f7017cf17",
   "metadata": {},
   "outputs": [
    {
     "data": {
      "text/plain": [
       "(1, 256, 256, 16, 3)"
      ]
     },
     "execution_count": 55,
     "metadata": {},
     "output_type": "execute_result"
    }
   ],
   "source": [
    "M.shape "
   ]
  },
  {
   "cell_type": "code",
   "execution_count": 56,
   "id": "89986202-0681-421d-b647-b72397f51e1d",
   "metadata": {},
   "outputs": [],
   "source": [
    "img = abs(M[0,:,:,0,0]).T"
   ]
  },
  {
   "cell_type": "code",
   "execution_count": 57,
   "id": "c02b2498-1c03-4467-9577-b1f70ae8de9b",
   "metadata": {},
   "outputs": [],
   "source": [
    "xx, yy = img.shape[:2]"
   ]
  },
  {
   "cell_type": "code",
   "execution_count": 58,
   "id": "17a189af-d80c-4922-bbe7-5272edebec0b",
   "metadata": {},
   "outputs": [],
   "source": [
    "slice = img[int(xx/2), :]"
   ]
  },
  {
   "cell_type": "code",
   "execution_count": 59,
   "id": "aab23802-0637-4865-b5f4-729bc1a7ec98",
   "metadata": {},
   "outputs": [
    {
     "data": {
      "image/png": "[encoded data removed]",
      "text/plain": [
       "<Figure size 432x288 with 2 Axes>"
      ]
     },
     "metadata": {
      "needs_background": "light"
     },
     "output_type": "display_data"
    }
   ],
   "source": [
    "plt.subplot(1,2,1)\n",
    "plt.imshow(img, cmap='gray')\n",
    "plt.subplot(1,2,2)\n",
    "plt.plot(slice)\n",
    "plt.show()"
   ]
  },
  {
   "cell_type": "code",
   "execution_count": 11,
   "id": "3a4bdefc-c8a5-4d8f-8443-a4e8a2c82bed",
   "metadata": {},
   "outputs": [
    {
     "data": {
      "text/plain": [
       "(256, 256)"
      ]
     },
     "execution_count": 11,
     "metadata": {},
     "output_type": "execute_result"
    }
   ],
   "source": []
  },
  {
   "cell_type": "code",
   "execution_count": null,
   "id": "321df018-3b0b-48a1-be1b-bfa8c0d7020e",
   "metadata": {},
   "outputs": [],
   "source": []
  }
 ],
 "metadata": {
  "kernelspec": {
   "display_name": "Python 3",
   "language": "python",
   "name": "python3"
  },
  "language_info": {
   "codemirror_mode": {
    "name": "ipython",
    "version": 3
   },
   "file_extension": ".py",
   "mimetype": "text/x-python",
   "name": "python",
   "nbconvert_exporter": "python",
   "pygments_lexer": "ipython3",
   "version": "3.8.8"
  }
 },
 "nbformat": 4,
 "nbformat_minor": 5
}
